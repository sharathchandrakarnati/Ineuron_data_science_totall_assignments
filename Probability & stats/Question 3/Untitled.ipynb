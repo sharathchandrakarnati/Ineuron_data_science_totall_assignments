{
 "cells": [
  {
   "cell_type": "code",
   "execution_count": 1,
   "id": "4bd50848",
   "metadata": {},
   "outputs": [
    {
     "ename": "ModuleNotFoundError",
     "evalue": "No module named 'spicy.stats'",
     "output_type": "error",
     "traceback": [
      "\u001b[1;31m---------------------------------------------------------------------------\u001b[0m",
      "\u001b[1;31mModuleNotFoundError\u001b[0m                       Traceback (most recent call last)",
      "\u001b[1;32m~\\AppData\\Local\\Temp\\ipykernel_4708\\1818976640.py\u001b[0m in \u001b[0;36m<module>\u001b[1;34m\u001b[0m\n\u001b[0;32m      5\u001b[0m \u001b[1;32mimport\u001b[0m \u001b[0mmatplotlib\u001b[0m\u001b[1;33m.\u001b[0m\u001b[0mpyplot\u001b[0m \u001b[1;32mas\u001b[0m \u001b[0mplt\u001b[0m\u001b[1;33m\u001b[0m\u001b[1;33m\u001b[0m\u001b[0m\n\u001b[0;32m      6\u001b[0m \u001b[1;32mimport\u001b[0m \u001b[0mspicy\u001b[0m\u001b[1;33m\u001b[0m\u001b[1;33m\u001b[0m\u001b[0m\n\u001b[1;32m----> 7\u001b[1;33m \u001b[1;32mfrom\u001b[0m \u001b[0mspicy\u001b[0m\u001b[1;33m.\u001b[0m\u001b[0mstats\u001b[0m \u001b[1;32mimport\u001b[0m \u001b[0mpearsonr\u001b[0m\u001b[1;33m\u001b[0m\u001b[1;33m\u001b[0m\u001b[0m\n\u001b[0m",
      "\u001b[1;31mModuleNotFoundError\u001b[0m: No module named 'spicy.stats'"
     ]
    }
   ],
   "source": [
    "import pandas as pd\n",
    "import numpy as np\n",
    "import math\n",
    "from math import sqrt\n",
    "import matplotlib.pyplot as plt\n",
    "import spicy\n",
    "from spicy.stats import pearsonr"
   ]
  },
  {
   "cell_type": "code",
   "execution_count": 2,
   "id": "2b4371b0",
   "metadata": {},
   "outputs": [],
   "source": [
    "df = pd.read_csv(\"data.csv\")"
   ]
  },
  {
   "cell_type": "code",
   "execution_count": 3,
   "id": "05ccabcf",
   "metadata": {},
   "outputs": [
    {
     "data": {
      "text/html": [
       "<div>\n",
       "<style scoped>\n",
       "    .dataframe tbody tr th:only-of-type {\n",
       "        vertical-align: middle;\n",
       "    }\n",
       "\n",
       "    .dataframe tbody tr th {\n",
       "        vertical-align: top;\n",
       "    }\n",
       "\n",
       "    .dataframe thead th {\n",
       "        text-align: right;\n",
       "    }\n",
       "</style>\n",
       "<table border=\"1\" class=\"dataframe\">\n",
       "  <thead>\n",
       "    <tr style=\"text-align: right;\">\n",
       "      <th></th>\n",
       "      <th>Patient ID</th>\n",
       "      <th>Blood Pressure Before (mmHg)</th>\n",
       "      <th>Blood Pressure After (mmHg)</th>\n",
       "    </tr>\n",
       "  </thead>\n",
       "  <tbody>\n",
       "    <tr>\n",
       "      <th>0</th>\n",
       "      <td>1</td>\n",
       "      <td>130</td>\n",
       "      <td>120</td>\n",
       "    </tr>\n",
       "    <tr>\n",
       "      <th>1</th>\n",
       "      <td>2</td>\n",
       "      <td>142</td>\n",
       "      <td>135</td>\n",
       "    </tr>\n",
       "    <tr>\n",
       "      <th>2</th>\n",
       "      <td>3</td>\n",
       "      <td>120</td>\n",
       "      <td>118</td>\n",
       "    </tr>\n",
       "    <tr>\n",
       "      <th>3</th>\n",
       "      <td>4</td>\n",
       "      <td>135</td>\n",
       "      <td>127</td>\n",
       "    </tr>\n",
       "    <tr>\n",
       "      <th>4</th>\n",
       "      <td>5</td>\n",
       "      <td>148</td>\n",
       "      <td>140</td>\n",
       "    </tr>\n",
       "    <tr>\n",
       "      <th>...</th>\n",
       "      <td>...</td>\n",
       "      <td>...</td>\n",
       "      <td>...</td>\n",
       "    </tr>\n",
       "    <tr>\n",
       "      <th>95</th>\n",
       "      <td>96</td>\n",
       "      <td>136</td>\n",
       "      <td>129</td>\n",
       "    </tr>\n",
       "    <tr>\n",
       "      <th>96</th>\n",
       "      <td>97</td>\n",
       "      <td>143</td>\n",
       "      <td>137</td>\n",
       "    </tr>\n",
       "    <tr>\n",
       "      <th>97</th>\n",
       "      <td>98</td>\n",
       "      <td>127</td>\n",
       "      <td>123</td>\n",
       "    </tr>\n",
       "    <tr>\n",
       "      <th>98</th>\n",
       "      <td>99</td>\n",
       "      <td>139</td>\n",
       "      <td>135</td>\n",
       "    </tr>\n",
       "    <tr>\n",
       "      <th>99</th>\n",
       "      <td>100</td>\n",
       "      <td>135</td>\n",
       "      <td>130</td>\n",
       "    </tr>\n",
       "  </tbody>\n",
       "</table>\n",
       "<p>100 rows × 3 columns</p>\n",
       "</div>"
      ],
      "text/plain": [
       "    Patient ID   Blood Pressure Before (mmHg)   Blood Pressure After (mmHg)\n",
       "0            1                            130                           120\n",
       "1            2                            142                           135\n",
       "2            3                            120                           118\n",
       "3            4                            135                           127\n",
       "4            5                            148                           140\n",
       "..         ...                            ...                           ...\n",
       "95          96                            136                           129\n",
       "96          97                            143                           137\n",
       "97          98                            127                           123\n",
       "98          99                            139                           135\n",
       "99         100                            135                           130\n",
       "\n",
       "[100 rows x 3 columns]"
      ]
     },
     "execution_count": 3,
     "metadata": {},
     "output_type": "execute_result"
    }
   ],
   "source": [
    "df"
   ]
  },
  {
   "cell_type": "markdown",
   "id": "cf33ffef",
   "metadata": {},
   "source": [
    "## Measure the dispersion in both and interpret the results"
   ]
  },
  {
   "cell_type": "markdown",
   "id": "32e6d64f",
   "metadata": {},
   "source": [
    "## renaming the column name"
   ]
  },
  {
   "cell_type": "code",
   "execution_count": 4,
   "id": "5510c274",
   "metadata": {},
   "outputs": [],
   "source": [
    "df2 = df.copy()"
   ]
  },
  {
   "cell_type": "code",
   "execution_count": 6,
   "id": "9a37879d",
   "metadata": {},
   "outputs": [],
   "source": [
    "new_columns = {' Blood Pressure After (mmHg)':\"Blood_Pressure_After_(mmHg)\",' Blood Pressure Before (mmHg)':\"Blood_Pressure_Before_(mmHg)\"}"
   ]
  },
  {
   "cell_type": "code",
   "execution_count": 7,
   "id": "d9490c1f",
   "metadata": {},
   "outputs": [
    {
     "data": {
      "text/plain": [
       "Index(['Patient ID', ' Blood Pressure Before (mmHg)',\n",
       "       ' Blood Pressure After (mmHg)'],\n",
       "      dtype='object')"
      ]
     },
     "execution_count": 7,
     "metadata": {},
     "output_type": "execute_result"
    }
   ],
   "source": [
    "df2.columns"
   ]
  },
  {
   "cell_type": "code",
   "execution_count": 8,
   "id": "da8e1c55",
   "metadata": {},
   "outputs": [],
   "source": [
    "df2.rename(columns= new_columns, inplace=True)"
   ]
  },
  {
   "cell_type": "code",
   "execution_count": 9,
   "id": "d6bea5b8",
   "metadata": {},
   "outputs": [
    {
     "data": {
      "text/html": [
       "<div>\n",
       "<style scoped>\n",
       "    .dataframe tbody tr th:only-of-type {\n",
       "        vertical-align: middle;\n",
       "    }\n",
       "\n",
       "    .dataframe tbody tr th {\n",
       "        vertical-align: top;\n",
       "    }\n",
       "\n",
       "    .dataframe thead th {\n",
       "        text-align: right;\n",
       "    }\n",
       "</style>\n",
       "<table border=\"1\" class=\"dataframe\">\n",
       "  <thead>\n",
       "    <tr style=\"text-align: right;\">\n",
       "      <th></th>\n",
       "      <th>Patient ID</th>\n",
       "      <th>Blood_Pressure_Before_(mmHg)</th>\n",
       "      <th>Blood_Pressure_After_(mmHg)</th>\n",
       "    </tr>\n",
       "  </thead>\n",
       "  <tbody>\n",
       "    <tr>\n",
       "      <th>0</th>\n",
       "      <td>1</td>\n",
       "      <td>130</td>\n",
       "      <td>120</td>\n",
       "    </tr>\n",
       "    <tr>\n",
       "      <th>1</th>\n",
       "      <td>2</td>\n",
       "      <td>142</td>\n",
       "      <td>135</td>\n",
       "    </tr>\n",
       "    <tr>\n",
       "      <th>2</th>\n",
       "      <td>3</td>\n",
       "      <td>120</td>\n",
       "      <td>118</td>\n",
       "    </tr>\n",
       "    <tr>\n",
       "      <th>3</th>\n",
       "      <td>4</td>\n",
       "      <td>135</td>\n",
       "      <td>127</td>\n",
       "    </tr>\n",
       "    <tr>\n",
       "      <th>4</th>\n",
       "      <td>5</td>\n",
       "      <td>148</td>\n",
       "      <td>140</td>\n",
       "    </tr>\n",
       "  </tbody>\n",
       "</table>\n",
       "</div>"
      ],
      "text/plain": [
       "   Patient ID  Blood_Pressure_Before_(mmHg)  Blood_Pressure_After_(mmHg)\n",
       "0           1                           130                          120\n",
       "1           2                           142                          135\n",
       "2           3                           120                          118\n",
       "3           4                           135                          127\n",
       "4           5                           148                          140"
      ]
     },
     "execution_count": 9,
     "metadata": {},
     "output_type": "execute_result"
    }
   ],
   "source": [
    "df2.head()"
   ]
  },
  {
   "cell_type": "code",
   "execution_count": null,
   "id": "90dccf48",
   "metadata": {},
   "outputs": [],
   "source": []
  },
  {
   "cell_type": "code",
   "execution_count": null,
   "id": "e1e088e2",
   "metadata": {},
   "outputs": [],
   "source": [
    "## Range \n",
    "def range(data):\n",
    "    range_1 = max(data)- min(data)\n",
    "    return range_1"
   ]
  },
  {
   "cell_type": "code",
   "execution_count": null,
   "id": "f5f76494",
   "metadata": {},
   "outputs": [],
   "source": [
    "range(df2['Blood_Pressure_Before_(mmHg)'])"
   ]
  },
  {
   "cell_type": "code",
   "execution_count": null,
   "id": "3072e47d",
   "metadata": {},
   "outputs": [],
   "source": [
    "range(df2['Blood_Pressure_After_(mmHg)'])"
   ]
  },
  {
   "cell_type": "code",
   "execution_count": null,
   "id": "12cd45d7",
   "metadata": {},
   "outputs": [],
   "source": [
    "def mean_1(data):\n",
    "    mean=  np.mean(data)\n",
    "    return mean\n",
    "    "
   ]
  },
  {
   "cell_type": "code",
   "execution_count": null,
   "id": "e713b25c",
   "metadata": {},
   "outputs": [],
   "source": [
    "mean_1(df2['Blood_Pressure_Before_(mmHg)'])"
   ]
  },
  {
   "cell_type": "code",
   "execution_count": null,
   "id": "0ecdb62e",
   "metadata": {},
   "outputs": [],
   "source": [
    "mean_1(df2['Blood_Pressure_After_(mmHg)'])"
   ]
  },
  {
   "cell_type": "code",
   "execution_count": null,
   "id": "5b4a237e",
   "metadata": {},
   "outputs": [],
   "source": [
    "def var(data):\n",
    "    var_1=  np.var(data)\n",
    "    return var_1\n",
    "    "
   ]
  },
  {
   "cell_type": "code",
   "execution_count": null,
   "id": "d7f58cc8",
   "metadata": {},
   "outputs": [],
   "source": [
    "var(df2['Blood_Pressure_Before_(mmHg)'])"
   ]
  },
  {
   "cell_type": "code",
   "execution_count": null,
   "id": "0a5828d4",
   "metadata": {},
   "outputs": [],
   "source": [
    "var(df2['Blood_Pressure_After_(mmHg)'])"
   ]
  },
  {
   "cell_type": "code",
   "execution_count": null,
   "id": "cee16309",
   "metadata": {},
   "outputs": [],
   "source": []
  },
  {
   "cell_type": "markdown",
   "id": "7c0a03df",
   "metadata": {},
   "source": [
    "## squared differences from mean"
   ]
  },
  {
   "cell_type": "code",
   "execution_count": null,
   "id": "ec973429",
   "metadata": {},
   "outputs": [],
   "source": [
    "def squares_difference_from_mean(data):\n",
    "    mean = np.mean(data)\n",
    "    squared_diff = (data-mean)**2\n",
    "    return squared_diff"
   ]
  },
  {
   "cell_type": "code",
   "execution_count": null,
   "id": "f215da6a",
   "metadata": {},
   "outputs": [],
   "source": [
    "squares_difference_from_mean(df2['Blood_Pressure_Before_(mmHg)'])"
   ]
  },
  {
   "cell_type": "code",
   "execution_count": null,
   "id": "d8ce570c",
   "metadata": {},
   "outputs": [],
   "source": [
    "squares_difference_from_mean(df2['Blood_Pressure_After_(mmHg)'])"
   ]
  },
  {
   "cell_type": "code",
   "execution_count": null,
   "id": "13aee5b2",
   "metadata": {},
   "outputs": [],
   "source": []
  },
  {
   "cell_type": "markdown",
   "id": "504edda2",
   "metadata": {},
   "source": [
    "## Calculate mean and 5% confidence interval and plot it in a graph"
   ]
  },
  {
   "cell_type": "code",
   "execution_count": null,
   "id": "134e9411",
   "metadata": {},
   "outputs": [],
   "source": [
    "def zscorewith5_confidence_interval(data):\n",
    "    mean = np.mean(data)\n",
    "    std_div = np.std(data)\n",
    "    z_score = 1.96\n",
    "    margin_error = z_score*(std_div/np.sqrt(len(data))) \n",
    "    lower_bond = mean-margin_error\n",
    "    upper_bond = mean+margin_error\n",
    "    return lower_bond,upper_bond\n",
    "    "
   ]
  },
  {
   "cell_type": "code",
   "execution_count": null,
   "id": "1f54f187",
   "metadata": {},
   "outputs": [],
   "source": [
    "pressure_before = zscorewith5_confidence_interval(df2['Blood_Pressure_Before_(mmHg)'])"
   ]
  },
  {
   "cell_type": "code",
   "execution_count": null,
   "id": "d5d14a12",
   "metadata": {},
   "outputs": [],
   "source": [
    "pressure_after =zscorewith5_confidence_interval(df2['Blood_Pressure_After_(mmHg)'])"
   ]
  },
  {
   "cell_type": "code",
   "execution_count": null,
   "id": "989de278",
   "metadata": {},
   "outputs": [],
   "source": [
    "pressure_before"
   ]
  },
  {
   "cell_type": "code",
   "execution_count": null,
   "id": "5e6df09f",
   "metadata": {},
   "outputs": [],
   "source": [
    "pressure_after"
   ]
  },
  {
   "cell_type": "code",
   "execution_count": null,
   "id": "677b6d64",
   "metadata": {},
   "outputs": [],
   "source": [
    "mean_after = np.mean(df2['Blood_Pressure_Before_(mmHg)'])"
   ]
  },
  {
   "cell_type": "markdown",
   "id": "e9a68f59",
   "metadata": {},
   "source": [
    "## Calculate the Mean absolute deviation and Standard deviation and interpret\n",
    "the results.\n"
   ]
  },
  {
   "cell_type": "code",
   "execution_count": null,
   "id": "27a5f53d",
   "metadata": {},
   "outputs": [],
   "source": [
    "def madandsd(data):\n",
    "    mean = np.mean(data)\n",
    "    abdolute_data = np.abs(data-mean)\n",
    "    mad = np.mean(abdolute_data)\n",
    "    squarres_deviation = (data-mean)**2\n",
    "    variance = np.mean(squarres_deviation)\n",
    "    sd = np.sqrt(variance)\n",
    "    return mad,sd"
   ]
  },
  {
   "cell_type": "code",
   "execution_count": null,
   "id": "31bb846e",
   "metadata": {},
   "outputs": [],
   "source": [
    "madandsd(df2['Blood_Pressure_Before_(mmHg)'])"
   ]
  },
  {
   "cell_type": "code",
   "execution_count": null,
   "id": "e23b855d",
   "metadata": {},
   "outputs": [],
   "source": [
    "madandsd(df2['Blood_Pressure_After_(mmHg)'])"
   ]
  },
  {
   "cell_type": "code",
   "execution_count": null,
   "id": "42fe06ce",
   "metadata": {},
   "outputs": [],
   "source": []
  },
  {
   "cell_type": "code",
   "execution_count": null,
   "id": "75140f5d",
   "metadata": {},
   "outputs": [],
   "source": []
  }
 ],
 "metadata": {
  "kernelspec": {
   "display_name": "Python 3 (ipykernel)",
   "language": "python",
   "name": "python3"
  },
  "language_info": {
   "codemirror_mode": {
    "name": "ipython",
    "version": 3
   },
   "file_extension": ".py",
   "mimetype": "text/x-python",
   "name": "python",
   "nbconvert_exporter": "python",
   "pygments_lexer": "ipython3",
   "version": "3.9.13"
  }
 },
 "nbformat": 4,
 "nbformat_minor": 5
}
