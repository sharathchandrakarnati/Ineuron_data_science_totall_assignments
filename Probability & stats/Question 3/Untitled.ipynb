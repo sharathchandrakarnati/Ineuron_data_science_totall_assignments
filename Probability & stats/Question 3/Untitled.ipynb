{
 "cells": [
  {
   "cell_type": "code",
   "execution_count": 1,
   "id": "4bd50848",
   "metadata": {},
   "outputs": [],
   "source": [
    "import pandas as pd\n",
    "import numpy as np\n",
    "import math\n",
    "from math import sqrt\n",
    "import matplotlib.pyplot as plt\n",
    "import scipy\n",
    "from scipy.stats import pearsonr"
   ]
  },
  {
   "cell_type": "code",
   "execution_count": 2,
   "id": "2b4371b0",
   "metadata": {},
   "outputs": [],
   "source": [
    "df = pd.read_csv(\"data.csv\")"
   ]
  },
  {
   "cell_type": "code",
   "execution_count": 3,
   "id": "05ccabcf",
   "metadata": {},
   "outputs": [
    {
     "data": {
      "text/html": [
       "<div>\n",
       "<style scoped>\n",
       "    .dataframe tbody tr th:only-of-type {\n",
       "        vertical-align: middle;\n",
       "    }\n",
       "\n",
       "    .dataframe tbody tr th {\n",
       "        vertical-align: top;\n",
       "    }\n",
       "\n",
       "    .dataframe thead th {\n",
       "        text-align: right;\n",
       "    }\n",
       "</style>\n",
       "<table border=\"1\" class=\"dataframe\">\n",
       "  <thead>\n",
       "    <tr style=\"text-align: right;\">\n",
       "      <th></th>\n",
       "      <th>Patient ID</th>\n",
       "      <th>Blood Pressure Before (mmHg)</th>\n",
       "      <th>Blood Pressure After (mmHg)</th>\n",
       "    </tr>\n",
       "  </thead>\n",
       "  <tbody>\n",
       "    <tr>\n",
       "      <th>0</th>\n",
       "      <td>1</td>\n",
       "      <td>130</td>\n",
       "      <td>120</td>\n",
       "    </tr>\n",
       "    <tr>\n",
       "      <th>1</th>\n",
       "      <td>2</td>\n",
       "      <td>142</td>\n",
       "      <td>135</td>\n",
       "    </tr>\n",
       "    <tr>\n",
       "      <th>2</th>\n",
       "      <td>3</td>\n",
       "      <td>120</td>\n",
       "      <td>118</td>\n",
       "    </tr>\n",
       "    <tr>\n",
       "      <th>3</th>\n",
       "      <td>4</td>\n",
       "      <td>135</td>\n",
       "      <td>127</td>\n",
       "    </tr>\n",
       "    <tr>\n",
       "      <th>4</th>\n",
       "      <td>5</td>\n",
       "      <td>148</td>\n",
       "      <td>140</td>\n",
       "    </tr>\n",
       "    <tr>\n",
       "      <th>...</th>\n",
       "      <td>...</td>\n",
       "      <td>...</td>\n",
       "      <td>...</td>\n",
       "    </tr>\n",
       "    <tr>\n",
       "      <th>95</th>\n",
       "      <td>96</td>\n",
       "      <td>136</td>\n",
       "      <td>129</td>\n",
       "    </tr>\n",
       "    <tr>\n",
       "      <th>96</th>\n",
       "      <td>97</td>\n",
       "      <td>143</td>\n",
       "      <td>137</td>\n",
       "    </tr>\n",
       "    <tr>\n",
       "      <th>97</th>\n",
       "      <td>98</td>\n",
       "      <td>127</td>\n",
       "      <td>123</td>\n",
       "    </tr>\n",
       "    <tr>\n",
       "      <th>98</th>\n",
       "      <td>99</td>\n",
       "      <td>139</td>\n",
       "      <td>135</td>\n",
       "    </tr>\n",
       "    <tr>\n",
       "      <th>99</th>\n",
       "      <td>100</td>\n",
       "      <td>135</td>\n",
       "      <td>130</td>\n",
       "    </tr>\n",
       "  </tbody>\n",
       "</table>\n",
       "<p>100 rows × 3 columns</p>\n",
       "</div>"
      ],
      "text/plain": [
       "    Patient ID   Blood Pressure Before (mmHg)   Blood Pressure After (mmHg)\n",
       "0            1                            130                           120\n",
       "1            2                            142                           135\n",
       "2            3                            120                           118\n",
       "3            4                            135                           127\n",
       "4            5                            148                           140\n",
       "..         ...                            ...                           ...\n",
       "95          96                            136                           129\n",
       "96          97                            143                           137\n",
       "97          98                            127                           123\n",
       "98          99                            139                           135\n",
       "99         100                            135                           130\n",
       "\n",
       "[100 rows x 3 columns]"
      ]
     },
     "execution_count": 3,
     "metadata": {},
     "output_type": "execute_result"
    }
   ],
   "source": [
    "df"
   ]
  },
  {
   "cell_type": "markdown",
   "id": "cf33ffef",
   "metadata": {},
   "source": [
    "## Measure the dispersion in both and interpret the results"
   ]
  },
  {
   "cell_type": "markdown",
   "id": "32e6d64f",
   "metadata": {},
   "source": [
    "## renaming the column name"
   ]
  },
  {
   "cell_type": "code",
   "execution_count": 4,
   "id": "5510c274",
   "metadata": {},
   "outputs": [],
   "source": [
    "df2 = df.copy()"
   ]
  },
  {
   "cell_type": "code",
   "execution_count": 5,
   "id": "9a37879d",
   "metadata": {},
   "outputs": [],
   "source": [
    "new_columns = {' Blood Pressure After (mmHg)':\"Blood_Pressure_After_(mmHg)\",' Blood Pressure Before (mmHg)':\"Blood_Pressure_Before_(mmHg)\"}"
   ]
  },
  {
   "cell_type": "code",
   "execution_count": 6,
   "id": "d9490c1f",
   "metadata": {},
   "outputs": [
    {
     "data": {
      "text/plain": [
       "Index(['Patient ID', ' Blood Pressure Before (mmHg)',\n",
       "       ' Blood Pressure After (mmHg)'],\n",
       "      dtype='object')"
      ]
     },
     "execution_count": 6,
     "metadata": {},
     "output_type": "execute_result"
    }
   ],
   "source": [
    "df2.columns"
   ]
  },
  {
   "cell_type": "code",
   "execution_count": 7,
   "id": "da8e1c55",
   "metadata": {},
   "outputs": [],
   "source": [
    "df2.rename(columns= new_columns, inplace=True)"
   ]
  },
  {
   "cell_type": "code",
   "execution_count": 8,
   "id": "d6bea5b8",
   "metadata": {},
   "outputs": [
    {
     "data": {
      "text/html": [
       "<div>\n",
       "<style scoped>\n",
       "    .dataframe tbody tr th:only-of-type {\n",
       "        vertical-align: middle;\n",
       "    }\n",
       "\n",
       "    .dataframe tbody tr th {\n",
       "        vertical-align: top;\n",
       "    }\n",
       "\n",
       "    .dataframe thead th {\n",
       "        text-align: right;\n",
       "    }\n",
       "</style>\n",
       "<table border=\"1\" class=\"dataframe\">\n",
       "  <thead>\n",
       "    <tr style=\"text-align: right;\">\n",
       "      <th></th>\n",
       "      <th>Patient ID</th>\n",
       "      <th>Blood_Pressure_Before_(mmHg)</th>\n",
       "      <th>Blood_Pressure_After_(mmHg)</th>\n",
       "    </tr>\n",
       "  </thead>\n",
       "  <tbody>\n",
       "    <tr>\n",
       "      <th>0</th>\n",
       "      <td>1</td>\n",
       "      <td>130</td>\n",
       "      <td>120</td>\n",
       "    </tr>\n",
       "    <tr>\n",
       "      <th>1</th>\n",
       "      <td>2</td>\n",
       "      <td>142</td>\n",
       "      <td>135</td>\n",
       "    </tr>\n",
       "    <tr>\n",
       "      <th>2</th>\n",
       "      <td>3</td>\n",
       "      <td>120</td>\n",
       "      <td>118</td>\n",
       "    </tr>\n",
       "    <tr>\n",
       "      <th>3</th>\n",
       "      <td>4</td>\n",
       "      <td>135</td>\n",
       "      <td>127</td>\n",
       "    </tr>\n",
       "    <tr>\n",
       "      <th>4</th>\n",
       "      <td>5</td>\n",
       "      <td>148</td>\n",
       "      <td>140</td>\n",
       "    </tr>\n",
       "  </tbody>\n",
       "</table>\n",
       "</div>"
      ],
      "text/plain": [
       "   Patient ID  Blood_Pressure_Before_(mmHg)  Blood_Pressure_After_(mmHg)\n",
       "0           1                           130                          120\n",
       "1           2                           142                          135\n",
       "2           3                           120                          118\n",
       "3           4                           135                          127\n",
       "4           5                           148                          140"
      ]
     },
     "execution_count": 8,
     "metadata": {},
     "output_type": "execute_result"
    }
   ],
   "source": [
    "df2.head()"
   ]
  },
  {
   "cell_type": "code",
   "execution_count": null,
   "id": "90dccf48",
   "metadata": {},
   "outputs": [],
   "source": []
  },
  {
   "cell_type": "code",
   "execution_count": 9,
   "id": "e1e088e2",
   "metadata": {},
   "outputs": [],
   "source": [
    "## Range \n",
    "def range(data):\n",
    "    range_1 = max(data)- min(data)\n",
    "    return range_1"
   ]
  },
  {
   "cell_type": "code",
   "execution_count": 10,
   "id": "f5f76494",
   "metadata": {},
   "outputs": [
    {
     "data": {
      "text/plain": [
       "28"
      ]
     },
     "execution_count": 10,
     "metadata": {},
     "output_type": "execute_result"
    }
   ],
   "source": [
    "range(df2['Blood_Pressure_Before_(mmHg)'])"
   ]
  },
  {
   "cell_type": "code",
   "execution_count": 11,
   "id": "3072e47d",
   "metadata": {},
   "outputs": [
    {
     "data": {
      "text/plain": [
       "23"
      ]
     },
     "execution_count": 11,
     "metadata": {},
     "output_type": "execute_result"
    }
   ],
   "source": [
    "range(df2['Blood_Pressure_After_(mmHg)'])"
   ]
  },
  {
   "cell_type": "code",
   "execution_count": 12,
   "id": "12cd45d7",
   "metadata": {},
   "outputs": [],
   "source": [
    "def mean_1(data):\n",
    "    mean=  np.mean(data)\n",
    "    return mean\n",
    "    "
   ]
  },
  {
   "cell_type": "code",
   "execution_count": 13,
   "id": "e713b25c",
   "metadata": {},
   "outputs": [
    {
     "data": {
      "text/plain": [
       "133.91"
      ]
     },
     "execution_count": 13,
     "metadata": {},
     "output_type": "execute_result"
    }
   ],
   "source": [
    "mean_1(df2['Blood_Pressure_Before_(mmHg)'])"
   ]
  },
  {
   "cell_type": "code",
   "execution_count": 14,
   "id": "0ecdb62e",
   "metadata": {},
   "outputs": [
    {
     "data": {
      "text/plain": [
       "128.36"
      ]
     },
     "execution_count": 14,
     "metadata": {},
     "output_type": "execute_result"
    }
   ],
   "source": [
    "mean_1(df2['Blood_Pressure_After_(mmHg)'])"
   ]
  },
  {
   "cell_type": "code",
   "execution_count": 15,
   "id": "5b4a237e",
   "metadata": {},
   "outputs": [],
   "source": [
    "def var(data):\n",
    "    var_1=  np.var(data)\n",
    "    return var_1\n",
    "    "
   ]
  },
  {
   "cell_type": "code",
   "execution_count": 16,
   "id": "d7f58cc8",
   "metadata": {},
   "outputs": [
    {
     "data": {
      "text/plain": [
       "43.10189999999998"
      ]
     },
     "execution_count": 16,
     "metadata": {},
     "output_type": "execute_result"
    }
   ],
   "source": [
    "var(df2['Blood_Pressure_Before_(mmHg)'])"
   ]
  },
  {
   "cell_type": "code",
   "execution_count": 17,
   "id": "0a5828d4",
   "metadata": {},
   "outputs": [
    {
     "data": {
      "text/plain": [
       "46.97040000000002"
      ]
     },
     "execution_count": 17,
     "metadata": {},
     "output_type": "execute_result"
    }
   ],
   "source": [
    "var(df2['Blood_Pressure_After_(mmHg)'])"
   ]
  },
  {
   "cell_type": "code",
   "execution_count": null,
   "id": "cee16309",
   "metadata": {},
   "outputs": [],
   "source": []
  },
  {
   "cell_type": "markdown",
   "id": "ce1c9994",
   "metadata": {},
   "source": [
    "## squared differences from mean"
   ]
  },
  {
   "cell_type": "code",
   "execution_count": 18,
   "id": "ec973429",
   "metadata": {},
   "outputs": [],
   "source": [
    "def squares_difference_from_mean(data):\n",
    "    mean = np.mean(data)\n",
    "    squared_diff = (data-mean)**2\n",
    "    return squared_diff"
   ]
  },
  {
   "cell_type": "code",
   "execution_count": 19,
   "id": "f215da6a",
   "metadata": {},
   "outputs": [
    {
     "data": {
      "text/plain": [
       "0      15.2881\n",
       "1      65.4481\n",
       "2     193.4881\n",
       "3       1.1881\n",
       "4     198.5281\n",
       "        ...   \n",
       "95      4.3681\n",
       "96     82.6281\n",
       "97     47.7481\n",
       "98     25.9081\n",
       "99      1.1881\n",
       "Name: Blood_Pressure_Before_(mmHg), Length: 100, dtype: float64"
      ]
     },
     "execution_count": 19,
     "metadata": {},
     "output_type": "execute_result"
    }
   ],
   "source": [
    "squares_difference_from_mean(df2['Blood_Pressure_Before_(mmHg)'])"
   ]
  },
  {
   "cell_type": "code",
   "execution_count": 20,
   "id": "d8ce570c",
   "metadata": {},
   "outputs": [
    {
     "data": {
      "text/plain": [
       "0      69.8896\n",
       "1      44.0896\n",
       "2     107.3296\n",
       "3       1.8496\n",
       "4     135.4896\n",
       "        ...   \n",
       "95      0.4096\n",
       "96     74.6496\n",
       "97     28.7296\n",
       "98     44.0896\n",
       "99      2.6896\n",
       "Name: Blood_Pressure_After_(mmHg), Length: 100, dtype: float64"
      ]
     },
     "execution_count": 20,
     "metadata": {},
     "output_type": "execute_result"
    }
   ],
   "source": [
    "squares_difference_from_mean(df2['Blood_Pressure_After_(mmHg)'])"
   ]
  },
  {
   "cell_type": "code",
   "execution_count": null,
   "id": "6ff6e35b",
   "metadata": {},
   "outputs": [],
   "source": []
  },
  {
   "cell_type": "markdown",
   "id": "49d9f0c3",
   "metadata": {},
   "source": [
    "## Calculate mean and 5% confidence interval and plot it in a graph"
   ]
  },
  {
   "cell_type": "code",
   "execution_count": 21,
   "id": "f54a83f3",
   "metadata": {},
   "outputs": [],
   "source": [
    "def zscorewith5_confidence_interval(data):\n",
    "    mean = np.mean(data)\n",
    "    std_div = np.std(data)\n",
    "    z_score = 1.96\n",
    "    margin_error = z_score*(std_div/np.sqrt(len(data))) \n",
    "    lower_bond = mean-margin_error\n",
    "    upper_bond = mean+margin_error\n",
    "    return lower_bond,upper_bond\n",
    "    "
   ]
  },
  {
   "cell_type": "code",
   "execution_count": 22,
   "id": "4eabe600",
   "metadata": {},
   "outputs": [],
   "source": [
    "pressure_before = zscorewith5_confidence_interval(df2['Blood_Pressure_Before_(mmHg)'])"
   ]
  },
  {
   "cell_type": "code",
   "execution_count": 23,
   "id": "512f1700",
   "metadata": {},
   "outputs": [],
   "source": [
    "pressure_after =zscorewith5_confidence_interval(df2['Blood_Pressure_After_(mmHg)'])"
   ]
  },
  {
   "cell_type": "code",
   "execution_count": 24,
   "id": "3b5913b7",
   "metadata": {},
   "outputs": [
    {
     "data": {
      "text/plain": [
       "(132.6232200691649, 135.1967799308351)"
      ]
     },
     "execution_count": 24,
     "metadata": {},
     "output_type": "execute_result"
    }
   ],
   "source": [
    "pressure_before"
   ]
  },
  {
   "cell_type": "code",
   "execution_count": 25,
   "id": "72df4f08",
   "metadata": {},
   "outputs": [
    {
     "data": {
      "text/plain": [
       "(127.01671489012944, 129.7032851098706)"
      ]
     },
     "execution_count": 25,
     "metadata": {},
     "output_type": "execute_result"
    }
   ],
   "source": [
    "pressure_after"
   ]
  },
  {
   "cell_type": "code",
   "execution_count": 26,
   "id": "788f099c",
   "metadata": {},
   "outputs": [],
   "source": [
    "mean_after = np.mean(df2['Blood_Pressure_Before_(mmHg)'])"
   ]
  },
  {
   "cell_type": "markdown",
   "id": "98542df5",
   "metadata": {},
   "source": [
    "## Calculate the Mean absolute deviation and Standard deviation and interpret\n",
    "the results.\n"
   ]
  },
  {
   "cell_type": "code",
   "execution_count": 27,
   "id": "73d54c5e",
   "metadata": {},
   "outputs": [],
   "source": [
    "def madandsd(data):\n",
    "    mean = np.mean(data)\n",
    "    abdolute_data = np.abs(data-mean)\n",
    "    mad = np.mean(abdolute_data)\n",
    "    squarres_deviation = (data-mean)**2\n",
    "    variance = np.mean(squarres_deviation)\n",
    "    sd = np.sqrt(variance)\n",
    "    return mad,sd"
   ]
  },
  {
   "cell_type": "code",
   "execution_count": 28,
   "id": "bc8b6a56",
   "metadata": {},
   "outputs": [
    {
     "data": {
      "text/plain": [
       "(5.7118, 6.5652037287505385)"
      ]
     },
     "execution_count": 28,
     "metadata": {},
     "output_type": "execute_result"
    }
   ],
   "source": [
    "madandsd(df2['Blood_Pressure_Before_(mmHg)'])"
   ]
  },
  {
   "cell_type": "code",
   "execution_count": 29,
   "id": "bd9178d2",
   "metadata": {},
   "outputs": [
    {
     "data": {
      "text/plain": [
       "(5.9, 6.853495458523338)"
      ]
     },
     "execution_count": 29,
     "metadata": {},
     "output_type": "execute_result"
    }
   ],
   "source": [
    "madandsd(df2['Blood_Pressure_After_(mmHg)'])"
   ]
  },
  {
   "cell_type": "markdown",
   "id": "1a7837a1",
   "metadata": {},
   "source": [
    "### d. Calculate the correlation coefficient and check the significance of it at 1% level\n",
    "of significance."
   ]
  },
  {
   "cell_type": "code",
   "execution_count": 30,
   "id": "a3ecfc42",
   "metadata": {},
   "outputs": [],
   "source": [
    "def correlation_cofficientat(x,y):\n",
    "    significane_level = 0.01\n",
    "    corr_coref ,p_value = pearsonr(x,y)\n",
    "    is_significant = p_value < significane_level\n",
    "    return corr_coref,is_significant\n",
    "    "
   ]
  },
  {
   "cell_type": "code",
   "execution_count": 31,
   "id": "6f10f005",
   "metadata": {},
   "outputs": [
    {
     "data": {
      "text/plain": [
       "(0.9779485966556017, True)"
      ]
     },
     "execution_count": 31,
     "metadata": {},
     "output_type": "execute_result"
    }
   ],
   "source": [
    "correlation_cofficientat(df2['Blood_Pressure_Before_(mmHg)'],df2['Blood_Pressure_After_(mmHg)'])"
   ]
  },
  {
   "cell_type": "code",
   "execution_count": null,
   "id": "7c7b874b",
   "metadata": {},
   "outputs": [],
   "source": []
  },
  {
   "cell_type": "code",
   "execution_count": null,
   "id": "ef239301",
   "metadata": {},
   "outputs": [],
   "source": []
  },
  {
   "cell_type": "code",
   "execution_count": null,
   "id": "b82fb133",
   "metadata": {},
   "outputs": [],
   "source": []
  }
 ],
 "metadata": {
  "kernelspec": {
   "display_name": "Python 3 (ipykernel)",
   "language": "python",
   "name": "python3"
  },
  "language_info": {
   "codemirror_mode": {
    "name": "ipython",
    "version": 3
   },
   "file_extension": ".py",
   "mimetype": "text/x-python",
   "name": "python",
   "nbconvert_exporter": "python",
   "pygments_lexer": "ipython3",
   "version": "3.9.13"
  }
 },
 "nbformat": 4,
 "nbformat_minor": 5
}
