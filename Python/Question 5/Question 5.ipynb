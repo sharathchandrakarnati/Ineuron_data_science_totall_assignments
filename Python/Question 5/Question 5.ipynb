{
 "cells": [
  {
   "cell_type": "code",
   "execution_count": 13,
   "id": "eec03b36",
   "metadata": {},
   "outputs": [],
   "source": [
    "import requests\n",
    "import pandas as pd\n",
    "import json"
   ]
  },
  {
   "cell_type": "code",
   "execution_count": 14,
   "id": "7893725f",
   "metadata": {},
   "outputs": [
    {
     "name": "stdout",
     "output_type": "stream",
     "text": [
      "Data dumped successfully.\n"
     ]
    }
   ],
   "source": [
    "\n",
    "# API link\n",
    "api_link = \"http://api.tvmaze.com/singlesearch/shows?q=westworld&embed=episodes\"\n",
    "\n",
    "# Send a GET request to the API\n",
    "response = requests.get(api_link)\n",
    "\n",
    "# Check if the request was successful\n",
    "if response.status_code == 200:\n",
    "    # Extract the JSON data\n",
    "    data = response.json()\n",
    "    with open(\"data.json\", \"w\") as file:\n",
    "        json.dump(data, file, indent=4)\n",
    "\n",
    "    print(\"Data dumped successfully.\")\n",
    "\n",
    "else:\n",
    "    # Print an error message if the request was not successful\n",
    "    print(\"Error:\", response.status_code)\n",
    "\n",
    "   "
   ]
  },
  {
   "cell_type": "code",
   "execution_count": 18,
   "id": "8a27e1ba",
   "metadata": {},
   "outputs": [
    {
     "name": "stdout",
     "output_type": "stream",
     "text": [
      "     id                                          url       name      type  \\\n",
      "0  1371  https://www.tvmaze.com/shows/1371/westworld  Westworld  Scripted   \n",
      "\n",
      "  language                             genres status  runtime  averageRuntime  \\\n",
      "0  English  [Drama, Science-Fiction, Western]  Ended       60              63   \n",
      "\n",
      "    premiered  ... network.country.timezone  network.officialSite  \\\n",
      "0  2016-10-02  ...         America/New_York  https://www.hbo.com/   \n",
      "\n",
      "   externals.tvrage externals.thetvdb externals.imdb  \\\n",
      "0             37537            296762      tt0475784   \n",
      "\n",
      "                                        image.medium  \\\n",
      "0  https://static.tvmaze.com/uploads/images/mediu...   \n",
      "\n",
      "                                      image.original  \\\n",
      "0  https://static.tvmaze.com/uploads/images/origi...   \n",
      "\n",
      "                    _links.self.href              _links.previousepisode.href  \\\n",
      "0  https://api.tvmaze.com/shows/1371  https://api.tvmaze.com/episodes/2326661   \n",
      "\n",
      "                                  _embedded.episodes  \n",
      "0  [{'id': 869671, 'url': 'https://www.tvmaze.com...  \n",
      "\n",
      "[1 rows x 34 columns]\n"
     ]
    }
   ],
   "source": [
    "import pandas as pd\n",
    "import json\n",
    "\n",
    "# Read the JSON data\n",
    "with open(\"data.json\", \"r\") as file:\n",
    "    data = json.load(file)\n",
    "\n",
    "# Normalize the JSON data\n",
    "df = pd.json_normalize(data)\n",
    "\n",
    "# Print the DataFrame\n",
    "print(df)"
   ]
  },
  {
   "cell_type": "code",
   "execution_count": null,
   "id": "707a80c6",
   "metadata": {},
   "outputs": [],
   "source": []
  },
  {
   "cell_type": "code",
   "execution_count": 26,
   "id": "4afd2d9e",
   "metadata": {},
   "outputs": [
    {
     "ename": "NotImplementedError",
     "evalue": "",
     "output_type": "error",
     "traceback": [
      "\u001b[1;31m---------------------------------------------------------------------------\u001b[0m",
      "\u001b[1;31mNotImplementedError\u001b[0m                       Traceback (most recent call last)",
      "\u001b[1;32m~\\AppData\\Local\\Temp\\ipykernel_17296\\2995827614.py\u001b[0m in \u001b[0;36m<module>\u001b[1;34m\u001b[0m\n\u001b[1;32m----> 1\u001b[1;33m \u001b[0mdf\u001b[0m \u001b[1;33m=\u001b[0m \u001b[0mpd\u001b[0m\u001b[1;33m.\u001b[0m\u001b[0mjson_normalize\u001b[0m\u001b[1;33m(\u001b[0m\u001b[0mdata_list\u001b[0m\u001b[1;33m)\u001b[0m\u001b[1;33m\u001b[0m\u001b[1;33m\u001b[0m\u001b[0m\n\u001b[0m",
      "\u001b[1;32m~\\anaconda3\\lib\\site-packages\\pandas\\io\\json\\_normalize.py\u001b[0m in \u001b[0;36m_json_normalize\u001b[1;34m(data, record_path, meta, meta_prefix, record_prefix, errors, sep, max_level)\u001b[0m\n\u001b[0;32m    441\u001b[0m         \u001b[0mdata\u001b[0m \u001b[1;33m=\u001b[0m \u001b[0mlist\u001b[0m\u001b[1;33m(\u001b[0m\u001b[0mdata\u001b[0m\u001b[1;33m)\u001b[0m\u001b[1;33m\u001b[0m\u001b[1;33m\u001b[0m\u001b[0m\n\u001b[0;32m    442\u001b[0m     \u001b[1;32melse\u001b[0m\u001b[1;33m:\u001b[0m\u001b[1;33m\u001b[0m\u001b[1;33m\u001b[0m\u001b[0m\n\u001b[1;32m--> 443\u001b[1;33m         \u001b[1;32mraise\u001b[0m \u001b[0mNotImplementedError\u001b[0m\u001b[1;33m\u001b[0m\u001b[1;33m\u001b[0m\u001b[0m\n\u001b[0m\u001b[0;32m    444\u001b[0m \u001b[1;33m\u001b[0m\u001b[0m\n\u001b[0;32m    445\u001b[0m     \u001b[1;31m# check to see if a simple recursive function is possible to\u001b[0m\u001b[1;33m\u001b[0m\u001b[1;33m\u001b[0m\u001b[0m\n",
      "\u001b[1;31mNotImplementedError\u001b[0m: "
     ]
    }
   ],
   "source": [
    "df = pd.json_normalize(data_list)"
   ]
  },
  {
   "cell_type": "code",
   "execution_count": 24,
   "id": "ca90e1fa",
   "metadata": {},
   "outputs": [
    {
     "data": {
      "text/html": [
       "<div>\n",
       "<style scoped>\n",
       "    .dataframe tbody tr th:only-of-type {\n",
       "        vertical-align: middle;\n",
       "    }\n",
       "\n",
       "    .dataframe tbody tr th {\n",
       "        vertical-align: top;\n",
       "    }\n",
       "\n",
       "    .dataframe thead th {\n",
       "        text-align: right;\n",
       "    }\n",
       "</style>\n",
       "<table border=\"1\" class=\"dataframe\">\n",
       "  <thead>\n",
       "    <tr style=\"text-align: right;\">\n",
       "      <th></th>\n",
       "      <th>id</th>\n",
       "      <th>url</th>\n",
       "      <th>name</th>\n",
       "      <th>type</th>\n",
       "      <th>language</th>\n",
       "      <th>genres</th>\n",
       "      <th>status</th>\n",
       "      <th>runtime</th>\n",
       "      <th>averageRuntime</th>\n",
       "      <th>premiered</th>\n",
       "      <th>...</th>\n",
       "      <th>network.country.timezone</th>\n",
       "      <th>network.officialSite</th>\n",
       "      <th>externals.tvrage</th>\n",
       "      <th>externals.thetvdb</th>\n",
       "      <th>externals.imdb</th>\n",
       "      <th>image.medium</th>\n",
       "      <th>image.original</th>\n",
       "      <th>_links.self.href</th>\n",
       "      <th>_links.previousepisode.href</th>\n",
       "      <th>_embedded.episodes</th>\n",
       "    </tr>\n",
       "  </thead>\n",
       "  <tbody>\n",
       "    <tr>\n",
       "      <th>0</th>\n",
       "      <td>1371</td>\n",
       "      <td>https://www.tvmaze.com/shows/1371/westworld</td>\n",
       "      <td>Westworld</td>\n",
       "      <td>Scripted</td>\n",
       "      <td>English</td>\n",
       "      <td>[Drama, Science-Fiction, Western]</td>\n",
       "      <td>Ended</td>\n",
       "      <td>60</td>\n",
       "      <td>63</td>\n",
       "      <td>2016-10-02</td>\n",
       "      <td>...</td>\n",
       "      <td>America/New_York</td>\n",
       "      <td>https://www.hbo.com/</td>\n",
       "      <td>37537</td>\n",
       "      <td>296762</td>\n",
       "      <td>tt0475784</td>\n",
       "      <td>https://static.tvmaze.com/uploads/images/mediu...</td>\n",
       "      <td>https://static.tvmaze.com/uploads/images/origi...</td>\n",
       "      <td>https://api.tvmaze.com/shows/1371</td>\n",
       "      <td>https://api.tvmaze.com/episodes/2326661</td>\n",
       "      <td>[{'id': 869671, 'url': 'https://www.tvmaze.com...</td>\n",
       "    </tr>\n",
       "  </tbody>\n",
       "</table>\n",
       "<p>1 rows × 34 columns</p>\n",
       "</div>"
      ],
      "text/plain": [
       "     id                                          url       name      type  \\\n",
       "0  1371  https://www.tvmaze.com/shows/1371/westworld  Westworld  Scripted   \n",
       "\n",
       "  language                             genres status  runtime  averageRuntime  \\\n",
       "0  English  [Drama, Science-Fiction, Western]  Ended       60              63   \n",
       "\n",
       "    premiered  ... network.country.timezone  network.officialSite  \\\n",
       "0  2016-10-02  ...         America/New_York  https://www.hbo.com/   \n",
       "\n",
       "   externals.tvrage externals.thetvdb externals.imdb  \\\n",
       "0             37537            296762      tt0475784   \n",
       "\n",
       "                                        image.medium  \\\n",
       "0  https://static.tvmaze.com/uploads/images/mediu...   \n",
       "\n",
       "                                      image.original  \\\n",
       "0  https://static.tvmaze.com/uploads/images/origi...   \n",
       "\n",
       "                    _links.self.href              _links.previousepisode.href  \\\n",
       "0  https://api.tvmaze.com/shows/1371  https://api.tvmaze.com/episodes/2326661   \n",
       "\n",
       "                                  _embedded.episodes  \n",
       "0  [{'id': 869671, 'url': 'https://www.tvmaze.com...  \n",
       "\n",
       "[1 rows x 34 columns]"
      ]
     },
     "execution_count": 24,
     "metadata": {},
     "output_type": "execute_result"
    }
   ],
   "source": [
    "df"
   ]
  }
 ],
 "metadata": {
  "kernelspec": {
   "display_name": "Python 3 (ipykernel)",
   "language": "python",
   "name": "python3"
  },
  "language_info": {
   "codemirror_mode": {
    "name": "ipython",
    "version": 3
   },
   "file_extension": ".py",
   "mimetype": "text/x-python",
   "name": "python",
   "nbconvert_exporter": "python",
   "pygments_lexer": "ipython3",
   "version": "3.9.13"
  }
 },
 "nbformat": 4,
 "nbformat_minor": 5
}
