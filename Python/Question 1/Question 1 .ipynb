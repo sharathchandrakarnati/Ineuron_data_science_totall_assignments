{
 "cells": [
  {
   "cell_type": "code",
   "execution_count": 6,
   "id": "d873481d",
   "metadata": {},
   "outputs": [
    {
     "name": "stdout",
     "output_type": "stream",
     "text": [
      "5\n"
     ]
    }
   ],
   "source": [
    "def get_highest_frequency_word_length(string):\n",
    "    word_frequency = {}\n",
    "    words = string.split()\n",
    "\n",
    "    for word in words:\n",
    "        if word in word_frequency:\n",
    "            word_frequency[word] += 1\n",
    "        else:\n",
    "            word_frequency[word] = 1\n",
    "\n",
    "    max_frequency = max(word_frequency.values())\n",
    "    highest_frequency_words = [word for word, frequency in word_frequency.items() if frequency == max_frequency]\n",
    "    highest_frequency_word_length = len(highest_frequency_words[0])\n",
    "\n",
    "    return highest_frequency_word_length\n",
    "\n",
    "# Example usage\n",
    "string = \"write write write all the number from from from 1 to 100\"\n",
    "result = get_highest_frequency_word_length(string)\n",
    "print(result)  # Output: 5"
   ]
  },
  {
   "cell_type": "code",
   "execution_count": 7,
   "id": "1b4d1735",
   "metadata": {},
   "outputs": [
    {
     "name": "stdout",
     "output_type": "stream",
     "text": [
      "5\n"
     ]
    }
   ],
   "source": [
    "string = \"hello world hello world hello\"\n",
    "result = get_highest_frequency_word_length(string)\n",
    "print(result)  # Output: 5"
   ]
  },
  {
   "cell_type": "code",
   "execution_count": null,
   "id": "ca32ac23",
   "metadata": {},
   "outputs": [],
   "source": []
  },
  {
   "cell_type": "code",
   "execution_count": null,
   "id": "19f650f9",
   "metadata": {},
   "outputs": [],
   "source": []
  },
  {
   "cell_type": "code",
   "execution_count": null,
   "id": "156bd883",
   "metadata": {},
   "outputs": [],
   "source": []
  },
  {
   "cell_type": "code",
   "execution_count": null,
   "id": "b733c176",
   "metadata": {},
   "outputs": [],
   "source": []
  }
 ],
 "metadata": {
  "kernelspec": {
   "display_name": "Python 3 (ipykernel)",
   "language": "python",
   "name": "python3"
  },
  "language_info": {
   "codemirror_mode": {
    "name": "ipython",
    "version": 3
   },
   "file_extension": ".py",
   "mimetype": "text/x-python",
   "name": "python",
   "nbconvert_exporter": "python",
   "pygments_lexer": "ipython3",
   "version": "3.9.13"
  }
 },
 "nbformat": 4,
 "nbformat_minor": 5
}
