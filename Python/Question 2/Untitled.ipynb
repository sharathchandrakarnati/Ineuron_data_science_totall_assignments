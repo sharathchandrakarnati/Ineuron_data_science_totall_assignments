{
 "cells": [
  {
   "cell_type": "code",
   "execution_count": null,
   "id": "c1e9be62",
   "metadata": {},
   "outputs": [],
   "source": []
  },
  {
   "cell_type": "code",
   "execution_count": 49,
   "id": "502ab7ec",
   "metadata": {},
   "outputs": [],
   "source": [
    "def valid_string(string):\n",
    "    repat = {}\n",
    "    for s in string:\n",
    "        repat[s] = repat.get(s,0)+1\n",
    "    value = list(repat.values())\n",
    "    unique = set(value)\n",
    "    if len(unique) == 1:\n",
    "        return 'Yes'\n",
    "    elif len(unique) ==2:\n",
    "        max_fre = max(value)\n",
    "        min_fre = min(value)\n",
    "        if value.count(max_fre) ==1 and max_fre -1== max_fre:\n",
    "            return 'yes'\n",
    "    return 'no'\n",
    "    "
   ]
  },
  {
   "cell_type": "code",
   "execution_count": 50,
   "id": "5b1da225",
   "metadata": {},
   "outputs": [
    {
     "data": {
      "text/plain": [
       "'no'"
      ]
     },
     "execution_count": 50,
     "metadata": {},
     "output_type": "execute_result"
    }
   ],
   "source": [
    "valid_string(\"acadasd\")"
   ]
  },
  {
   "cell_type": "code",
   "execution_count": 51,
   "id": "727546b9",
   "metadata": {},
   "outputs": [
    {
     "data": {
      "text/plain": [
       "'Yes'"
      ]
     },
     "execution_count": 51,
     "metadata": {},
     "output_type": "execute_result"
    }
   ],
   "source": [
    "valid_string(\"aabbccdd\")"
   ]
  },
  {
   "cell_type": "code",
   "execution_count": null,
   "id": "55b1284a",
   "metadata": {},
   "outputs": [],
   "source": []
  },
  {
   "cell_type": "code",
   "execution_count": null,
   "id": "3969ce69",
   "metadata": {},
   "outputs": [],
   "source": []
  },
  {
   "cell_type": "code",
   "execution_count": null,
   "id": "9d0dd508",
   "metadata": {},
   "outputs": [],
   "source": []
  },
  {
   "cell_type": "code",
   "execution_count": null,
   "id": "df8d059c",
   "metadata": {},
   "outputs": [],
   "source": []
  },
  {
   "cell_type": "code",
   "execution_count": null,
   "id": "b054c401",
   "metadata": {},
   "outputs": [],
   "source": []
  },
  {
   "cell_type": "code",
   "execution_count": null,
   "id": "aa9621ec",
   "metadata": {},
   "outputs": [],
   "source": []
  }
 ],
 "metadata": {
  "kernelspec": {
   "display_name": "Python 3 (ipykernel)",
   "language": "python",
   "name": "python3"
  },
  "language_info": {
   "codemirror_mode": {
    "name": "ipython",
    "version": 3
   },
   "file_extension": ".py",
   "mimetype": "text/x-python",
   "name": "python",
   "nbconvert_exporter": "python",
   "pygments_lexer": "ipython3",
   "version": "3.9.13"
  }
 },
 "nbformat": 4,
 "nbformat_minor": 5
}
