{
 "cells": [
  {
   "cell_type": "code",
   "execution_count": 13,
   "id": "053dc496-394e-450c-8b41-8bd4e2f4ec33",
   "metadata": {},
   "outputs": [],
   "source": [
    "import nltk\n",
    "#nltk.download('averaged_perceptron_tagger')\n",
    "from nltk import pos_tag\n",
    "from nltk.tokenize import word_tokenize\n",
    "\n"
   ]
  },
  {
   "cell_type": "code",
   "execution_count": 19,
   "id": "ce29ca24-9429-43e8-8b85-9e625eccdd11",
   "metadata": {},
   "outputs": [
    {
     "name": "stdout",
     "output_type": "stream",
     "text": [
      "{'verbs': 2, 'nouns': 1, 'pronouns': 1, 'adjectives': 0}\n"
     ]
    }
   ],
   "source": [
    "def count_of_tags(text):\n",
    "    # Tokenizing the sentences\n",
    "    words = word_tokenize(text)\n",
    "    # POS tagging\n",
    "    tagged_words = pos_tag(words)\n",
    "\n",
    "    verb_count = 0\n",
    "    noun_count = 0\n",
    "    pronoun_count = 0\n",
    "    adjective_count = 0\n",
    "\n",
    "    for word, tag in tagged_words:\n",
    "        if tag.startswith('V'):  # Verb\n",
    "            verb_count += 1\n",
    "        elif tag.startswith('N'):  # Noun\n",
    "            noun_count += 1\n",
    "        elif tag.startswith('PRP'):  # Pronoun\n",
    "            pronoun_count += 1\n",
    "        elif tag.startswith('JJ'):  # Adjective\n",
    "            adjective_count += 1\n",
    "\n",
    "    counts = {\n",
    "        'verbs': verb_count,\n",
    "        'nouns': noun_count,\n",
    "        'pronouns': pronoun_count,\n",
    "        'adjectives': adjective_count\n",
    "    }\n",
    "\n",
    "    return counts\n",
    "\n",
    "phrase = \"I love to eat pizza\"\n",
    "result = count_of_tags(phrase)\n",
    "print(result)"
   ]
  },
  {
   "cell_type": "code",
   "execution_count": null,
   "id": "c0fa0604-6546-465d-a3bc-c7e0fef246ef",
   "metadata": {},
   "outputs": [],
   "source": []
  },
  {
   "cell_type": "code",
   "execution_count": null,
   "id": "c1181c24-a60b-4330-95c2-3bee44547bd3",
   "metadata": {},
   "outputs": [],
   "source": []
  },
  {
   "cell_type": "code",
   "execution_count": null,
   "id": "d7159765-efce-491d-8f4f-af0eb7d3aad2",
   "metadata": {},
   "outputs": [],
   "source": []
  },
  {
   "cell_type": "code",
   "execution_count": null,
   "id": "8a02bd72-fdd5-4b16-b1f1-256b50fec046",
   "metadata": {},
   "outputs": [],
   "source": []
  },
  {
   "cell_type": "code",
   "execution_count": null,
   "id": "f635463f-95ce-4770-8eff-5f0414c76b9e",
   "metadata": {},
   "outputs": [],
   "source": []
  }
 ],
 "metadata": {
  "kernelspec": {
   "display_name": "Python 3 (ipykernel)",
   "language": "python",
   "name": "python3"
  },
  "language_info": {
   "codemirror_mode": {
    "name": "ipython",
    "version": 3
   },
   "file_extension": ".py",
   "mimetype": "text/x-python",
   "name": "python",
   "nbconvert_exporter": "python",
   "pygments_lexer": "ipython3",
   "version": "3.9.13"
  }
 },
 "nbformat": 4,
 "nbformat_minor": 5
}
